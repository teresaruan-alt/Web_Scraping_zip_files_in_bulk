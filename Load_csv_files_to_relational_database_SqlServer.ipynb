{
 "cells": [
  {
   "cell_type": "markdown",
   "metadata": {},
   "source": [
    "# Load All Files(.csv) to SQL Server Relational Database\n",
    "## Extract Bulk Files Step (2) - to  Microsoft SQL Database\n",
    "\n",
    "Loop through the file_list and download each .csv\n",
    "\n",
    "    1) Loop through the \"file_list\" \n",
    "    2) open each zip file\n",
    "    3) unzip the file\n",
    "    4) extract .csv from each zip file\n",
    "    5) remove zipped file before next iteration\n",
    "    6) print execution time \n",
    "    7) Load into MS SQL Server Management Studio\n",
    "    \n",
    "  "
   ]
  },
  {
   "cell_type": "code",
   "execution_count": 1,
   "metadata": {},
   "outputs": [],
   "source": [
    "#import dependencies\n",
    "import pyodbc\n",
    "import os\n",
    "import time\n",
    "import pyodbc\n",
    "import pandas as pd\n",
    "import csv\n",
    "import zipfile"
   ]
  },
  {
   "cell_type": "code",
   "execution_count": 14,
   "metadata": {},
   "outputs": [],
   "source": [
    "dbConnnect = pyodbc.connect(\"Driver={SQL Server Native Client 11.0};\"\n",
    "                            \"Server=LAPTOP-BURU7IOO\\SQLSERVER2019;\"\n",
    "#                             \"Database=citibike;\"\n",
    "                            \"Trusted_Connection=yes;\"\n",
    "                            \"autocommit = True;\") # autocommit=False by default"
   ]
  },
  {
   "cell_type": "code",
   "execution_count": 15,
   "metadata": {},
   "outputs": [],
   "source": [
    "# To initialize a cursor:\n",
    "dbCursor = dbConnnect.cursor()"
   ]
  },
  {
   "cell_type": "code",
   "execution_count": 16,
   "metadata": {
    "scrolled": true
   },
   "outputs": [
    {
     "name": "stdout",
     "output_type": "stream",
     "text": [
      "Database ='master'\n",
      "Database ='tempdb'\n",
      "Database ='model'\n",
      "Database ='msdb'\n",
      "Database ='KinetEco'\n",
      "Database ='LandonHotel'\n",
      "Database ='WideWorldImporters'\n",
      "Database ='citibike'\n"
     ]
    }
   ],
   "source": [
    "# https://www.tutorialgateway.org/python-sql-create-db/\n",
    "dbCursor.execute(\"select * from master.dbo.sysdatabases\")\n",
    "for x in dbCursor:\n",
    "    print('Database =%r'%x[0])"
   ]
  },
  {
   "cell_type": "code",
   "execution_count": 17,
   "metadata": {},
   "outputs": [],
   "source": [
    "data = pd.read_sql(\"select * from [LandonHotel].[dbo].[Guests]\",dbConnnect)\n",
    "# data.head(2)"
   ]
  },
  {
   "cell_type": "code",
   "execution_count": 21,
   "metadata": {},
   "outputs": [
    {
     "ename": "NameError",
     "evalue": "name 'delim' is not defined",
     "output_type": "error",
     "traceback": [
      "\u001b[1;31m---------------------------------------------------------------------------\u001b[0m",
      "\u001b[1;31mNameError\u001b[0m                                 Traceback (most recent call last)",
      "\u001b[1;32m<ipython-input-21-61841fb0d95c>\u001b[0m in \u001b[0;36m<module>\u001b[1;34m\u001b[0m\n\u001b[1;32m----> 1\u001b[1;33m \u001b[0mupload_table\u001b[0m\u001b[1;33m(\u001b[0m\u001b[1;34m'tripdata'\u001b[0m\u001b[1;33m,\u001b[0m\u001b[1;34m'201306citibiketripdata'\u001b[0m\u001b[1;33m,\u001b[0m \u001b[0mdelim\u001b[0m\u001b[1;33m,\u001b[0m \u001b[0mdbCursor\u001b[0m \u001b[1;33m)\u001b[0m\u001b[1;33m\u001b[0m\u001b[1;33m\u001b[0m\u001b[0m\n\u001b[0m",
      "\u001b[1;31mNameError\u001b[0m: name 'delim' is not defined"
     ]
    }
   ],
   "source": [
    "upload_table('tripdata','201306citibiketripdata', delim, dbCursor )"
   ]
  },
  {
   "cell_type": "code",
   "execution_count": 20,
   "metadata": {},
   "outputs": [],
   "source": [
    "def upload_table(path, filename, delim, dbCursor):\n",
    "    \"\"\"\n",
    "    Function to upload flat file to sqlserver\n",
    "    \"\"\"\n",
    "    tbl = filename.split('.')[0]\n",
    "    cnt = 0\n",
    "    with open (path + filename, 'r') as f:\n",
    "        reader = csv.reader(f, delimiter=delim)\n",
    "        for row in reader:\n",
    "            row.pop() # can be commented out\n",
    "            row = ['NULL' if val == '' else val for val in row]\n",
    "            row = [x.replace(\"'\", \"''\") for x in row]\n",
    "            out = \"'\" + \"', '\".join(str(item) for item in row) + \"'\"\n",
    "            out = out.replace(\"'NULL'\", 'NULL')\n",
    "            query = \"INSERT INTO \" + tbl + \" VALUES (\" + out + \")\"\n",
    "            dbCursor.execute(query)\n",
    "            cnt = cnt + 1\n",
    "            if cnt % 10000 == 0:\n",
    "                dbCursor.commit()\n",
    "        dbCursor.commit()\n",
    "    print(\"Uploaded \" + str(cnt) + \" rows into table \" + tbl + \".\")"
   ]
  },
  {
   "cell_type": "code",
   "execution_count": 62,
   "metadata": {},
   "outputs": [],
   "source": [
    "import csv\n",
    "import os\n",
    "from datetime import datetime"
   ]
  },
  {
   "cell_type": "code",
   "execution_count": 112,
   "metadata": {},
   "outputs": [],
   "source": [
    "def reporting_period():\n",
    "    table_name = filename[:4] + '_' + filename[4:6] + '_tripdata'\n",
    "    as_of_date = filename[:4] + '-' + filename[4:6]\n",
    "    print(as_of_date)"
   ]
  },
  {
   "cell_type": "code",
   "execution_count": 113,
   "metadata": {},
   "outputs": [
    {
     "name": "stdout",
     "output_type": "stream",
     "text": [
      "2013-06\n"
     ]
    }
   ],
   "source": [
    "filename ='201306citibiketripdata.csv'\n",
    "reporting_period()"
   ]
  },
  {
   "cell_type": "code",
   "execution_count": 111,
   "metadata": {},
   "outputs": [
    {
     "data": {
      "text/plain": [
       "'2013-06'"
      ]
     },
     "execution_count": 111,
     "metadata": {},
     "output_type": "execute_result"
    }
   ],
   "source": [
    "path='tripdata/'\n",
    "filename ='201306citibiketripdata.csv'\n",
    "# tbl = filename.split('.')[0]\n",
    "table_name= filename.split('.')[0]\n",
    "as_of_date = filename[:4] + '-' + filename[4:6] \n",
    "# '2013-06'\n",
    "\n",
    "table_name = filename[:4] + '_' + filename[4:6] + '_tripdata'\n",
    "# '2013_06_tripdata'\n",
    "as_of_date           \n",
    "       "
   ]
  },
  {
   "cell_type": "code",
   "execution_count": 90,
   "metadata": {},
   "outputs": [
    {
     "data": {
      "text/plain": [
       "['tripduration',\n",
       " 'starttime',\n",
       " 'stoptime',\n",
       " 'start station id',\n",
       " 'start station name',\n",
       " 'start station latitude',\n",
       " 'start station longitude',\n",
       " 'end station id',\n",
       " 'end station name',\n",
       " 'end station latitude',\n",
       " 'end station longitude',\n",
       " 'bikeid',\n",
       " 'usertype',\n",
       " 'birth year',\n",
       " 'gender']"
      ]
     },
     "execution_count": 90,
     "metadata": {},
     "output_type": "execute_result"
    }
   ],
   "source": [
    "data=pd.read_csv(path + filename)\n",
    "list(data.columns.values)"
   ]
  },
  {
   "cell_type": "code",
   "execution_count": 110,
   "metadata": {},
   "outputs": [
    {
     "name": "stdout",
     "output_type": "stream",
     "text": [
      "'2013-06',\n"
     ]
    },
    {
     "ename": "TypeError",
     "evalue": "can only concatenate str (not \"NoneType\") to str",
     "output_type": "error",
     "traceback": [
      "\u001b[1;31m---------------------------------------------------------------------------\u001b[0m",
      "\u001b[1;31mTypeError\u001b[0m                                 Traceback (most recent call last)",
      "\u001b[1;32m<ipython-input-110-448d2d98c16e>\u001b[0m in \u001b[0;36m<module>\u001b[1;34m\u001b[0m\n\u001b[0;32m      9\u001b[0m         \u001b[0mout\u001b[0m \u001b[1;33m=\u001b[0m \u001b[1;34m\"'\"\u001b[0m \u001b[1;33m+\u001b[0m \u001b[1;34m\"', '\"\u001b[0m\u001b[1;33m.\u001b[0m\u001b[0mjoin\u001b[0m\u001b[1;33m(\u001b[0m\u001b[0mstr\u001b[0m\u001b[1;33m(\u001b[0m\u001b[0mitem\u001b[0m\u001b[1;33m)\u001b[0m \u001b[1;32mfor\u001b[0m \u001b[0mitem\u001b[0m \u001b[1;32min\u001b[0m \u001b[0mrow\u001b[0m\u001b[1;33m)\u001b[0m \u001b[1;33m+\u001b[0m \u001b[1;34m\"'\"\u001b[0m\u001b[1;33m\u001b[0m\u001b[1;33m\u001b[0m\u001b[0m\n\u001b[0;32m     10\u001b[0m         \u001b[0mout\u001b[0m \u001b[1;33m=\u001b[0m \u001b[0mout\u001b[0m\u001b[1;33m.\u001b[0m\u001b[0mreplace\u001b[0m\u001b[1;33m(\u001b[0m\u001b[1;34m\"'NULL'\"\u001b[0m\u001b[1;33m,\u001b[0m \u001b[1;34m'NULL'\u001b[0m\u001b[1;33m)\u001b[0m\u001b[1;33m\u001b[0m\u001b[1;33m\u001b[0m\u001b[0m\n\u001b[1;32m---> 11\u001b[1;33m         \u001b[0mquery\u001b[0m \u001b[1;33m=\u001b[0m \u001b[1;34m\"INSERT INTO \"\u001b[0m \u001b[1;33m+\u001b[0m \u001b[0mtable_name\u001b[0m \u001b[1;33m+\u001b[0m \u001b[1;34m\" VALUES (\"\u001b[0m \u001b[1;33m+\u001b[0m  \u001b[0mas_of\u001b[0m \u001b[1;33m+\u001b[0m \u001b[0mout\u001b[0m \u001b[1;33m+\u001b[0m \u001b[1;34m\")\"\u001b[0m\u001b[1;33m\u001b[0m\u001b[1;33m\u001b[0m\u001b[0m\n\u001b[0m\u001b[0;32m     12\u001b[0m         \u001b[0mprint\u001b[0m\u001b[1;33m(\u001b[0m\u001b[0mquery\u001b[0m\u001b[1;33m)\u001b[0m\u001b[1;33m\u001b[0m\u001b[1;33m\u001b[0m\u001b[0m\n",
      "\u001b[1;31mTypeError\u001b[0m: can only concatenate str (not \"NoneType\") to str"
     ]
    }
   ],
   "source": [
    "with open (path + filename,'r') as csvfile: \n",
    "    csv_reader = csv.reader(csvfile, delimiter = \",\")\n",
    "    as_of =reporting_period()\n",
    "    as_of\n",
    "    for row in csv_reader:\n",
    "        row.pop() # can be commented out\n",
    "        row = ['NULL' if val == '' else val for val in row]\n",
    "        row = [x.replace(\"'\", \"''\") for x in row]\n",
    "        out = \"'\" + \"', '\".join(str(item) for item in row) + \"'\"\n",
    "        out = out.replace(\"'NULL'\", 'NULL')\n",
    "        query = \"INSERT INTO \" + table_name + \" VALUES (\" +  as_of + out + \")\"\n",
    "        print(query)"
   ]
  },
  {
   "cell_type": "code",
   "execution_count": null,
   "metadata": {},
   "outputs": [],
   "source": [
    "#df_op is the dataframe that needs to be written to database and test is the table name in database and col_name1, col_name2,... are the respective column names\n",
    "dbCursor.fast_executemany = True\n",
    "for row_count in range(0, df_op.shape[0]):\n",
    "   chunk = df_op.iloc[row_count:row_count + 1,:].values.tolist()\n",
    "   tuple_of_tuples = tuple(tuple(x) for x in chunk)\n",
    "   dbCursor.executemany(\"insert into test\" + \" ([col_name1],   col_name2],[col_name3],[col_name4] values )\",tuple_of_tuples)"
   ]
  },
  {
   "cell_type": "code",
   "execution_count": null,
   "metadata": {},
   "outputs": [],
   "source": []
  },
  {
   "cell_type": "code",
   "execution_count": null,
   "metadata": {},
   "outputs": [],
   "source": []
  },
  {
   "cell_type": "code",
   "execution_count": null,
   "metadata": {},
   "outputs": [],
   "source": []
  },
  {
   "cell_type": "code",
   "execution_count": null,
   "metadata": {},
   "outputs": [],
   "source": []
  }
 ],
 "metadata": {
  "kernelspec": {
   "display_name": "Python 3",
   "language": "python",
   "name": "python3"
  },
  "language_info": {
   "codemirror_mode": {
    "name": "ipython",
    "version": 3
   },
   "file_extension": ".py",
   "mimetype": "text/x-python",
   "name": "python",
   "nbconvert_exporter": "python",
   "pygments_lexer": "ipython3",
   "version": "3.7.7"
  }
 },
 "nbformat": 4,
 "nbformat_minor": 4
}
